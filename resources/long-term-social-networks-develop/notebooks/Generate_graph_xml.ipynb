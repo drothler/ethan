{
 "cells": [
  {
   "cell_type": "code",
   "execution_count": 1,
   "metadata": {
    "pycharm": {
     "is_executing": true
    }
   },
   "outputs": [],
   "source": [
    "import networkx as nx\n",
    "from bs4 import BeautifulSoup"
   ]
  },
  {
   "cell_type": "code",
   "execution_count": 2,
   "metadata": {},
   "outputs": [],
   "source": [
    "graph = nx.read_gpickle(\"graph.gexf\")"
   ]
  },
  {
   "cell_type": "code",
   "execution_count": 3,
   "metadata": {},
   "outputs": [
    {
     "data": {
      "text/plain": [
       "118820"
      ]
     },
     "execution_count": 3,
     "metadata": {},
     "output_type": "execute_result"
    }
   ],
   "source": [
    "len(graph.nodes)"
   ]
  },
  {
   "cell_type": "markdown",
   "metadata": {},
   "source": [
    "## Compile the response"
   ]
  },
  {
   "cell_type": "code",
   "execution_count": 4,
   "metadata": {},
   "outputs": [],
   "source": [
    "result = []\n",
    "for node in graph.nodes():\n",
    "    connections = [couple[1] for couple in graph.edges(node)]\n",
    "    connections_type = [ list(graph[node][neighbor]['type']) for neighbor in connections]\n",
    "    attributes = graph.nodes[node]\n",
    "    \n",
    "    result.append({\n",
    "        \"node_id\": node,\n",
    "        \"connections\": connections,\n",
    "        \"connections_type\": connections_type,\n",
    "        \"attributes\": attributes\n",
    "    })\n",
    "    "
   ]
  },
  {
   "cell_type": "code",
   "execution_count": 5,
   "metadata": {},
   "outputs": [
    {
     "data": {
      "text/plain": [
       "dict_keys(['node_id', 'connections', 'connections_type', 'attributes'])"
      ]
     },
     "execution_count": 5,
     "metadata": {},
     "output_type": "execute_result"
    }
   ],
   "source": [
    "result[0].keys()"
   ]
  },
  {
   "cell_type": "code",
   "execution_count": 6,
   "metadata": {},
   "outputs": [
    {
     "data": {
      "text/plain": [
       "118820"
      ]
     },
     "execution_count": 6,
     "metadata": {},
     "output_type": "execute_result"
    }
   ],
   "source": [
    "len(result)"
   ]
  },
  {
   "cell_type": "markdown",
   "metadata": {},
   "source": [
    "## Put the response on xml format"
   ]
  },
  {
   "cell_type": "code",
   "execution_count": 7,
   "metadata": {},
   "outputs": [
    {
     "data": {
      "text/plain": [
       "8"
      ]
     },
     "execution_count": 7,
     "metadata": {},
     "output_type": "execute_result"
    }
   ],
   "source": [
    "file = open(\"result_graph.xml\", \"w\")\n",
    "\n",
    "file.write(\"<graph>\\n\")\n",
    "file.write(f\"<nodes>\\n\")\n",
    "#for each element on the result\n",
    "for elem in result:\n",
    "    \n",
    "    #create the node tag and add id\n",
    "    file.write(f\"\\t<node id=\\\"{elem['node_id']}\\\">\\n\")\n",
    "    \n",
    "    ##write the attributes\n",
    "    file.write(f\"\\t\\t<attributes>\\n\")\n",
    "    \n",
    "    #for each attribute add it to the file\n",
    "    for attribute_name, attribute in elem[\"attributes\"].items():\n",
    "        file.write(f\"\\t\\t\\t<attribute>\\n\")\n",
    "        file.write(f\"\\t\\t\\t\\t<name>{attribute_name}</name>\\n\\t\\t\\t\\t<value>{attribute}</value>\\n\")\n",
    "        file.write(f\"\\t\\t\\t</attribute>\\n\")\n",
    "        \n",
    "    file.write(f\"\\t\\t</attributes>\\n\")\n",
    "    \n",
    "    ##write the connections and types\n",
    "    file.write(f\"\\t\\t<connections>\\n\")\n",
    "    for idx, connection in enumerate(elem[\"connections\"]):\n",
    "        file.write(f\"\\t\\t\\t<connection>\\n\")\n",
    "        \n",
    "        file.write(f\"\\t\\t\\t\\t<node_id>\\n\")\n",
    "        file.write(f\"\\t\\t\\t\\t\\t{connection}\\n\")\n",
    "        file.write(f\"\\t\\t\\t\\t</node_id>\\n\")\n",
    "        \n",
    "        file.write(f\"\\t\\t\\t\\t<connection_type>\\n\\t\\t\\t\\t\\t\")\n",
    "        for idx, t in enumerate(elem[\"connections_type\"][idx]):\n",
    "            file.write(f\"{t} \")\n",
    "            if idx < len(elem[\"connections_type\"][idx])-1:\n",
    "                file.write(\", \")\n",
    "        file.write(f\"\\n\\t\\t\\t\\t</connection_type>\\n\")\n",
    "        \n",
    "        file.write(f\"\\t\\t\\t</connection>\\n\")\n",
    "    file.write(f\"\\t\\t</connections>\\n\")\n",
    "    \n",
    "    file.write(\"\\t</node>\\n\")\n",
    "file.write(f\"</nodes>\\n\")\n",
    "file.write(\"</graph>\")"
   ]
  },
  {
   "cell_type": "code",
   "execution_count": 8,
   "metadata": {},
   "outputs": [],
   "source": [
    "file.close()"
   ]
  },
  {
   "cell_type": "code",
   "execution_count": null,
   "metadata": {},
   "outputs": [],
   "source": []
  }
 ],
 "metadata": {
  "kernelspec": {
   "display_name": "Python 3",
   "language": "python",
   "name": "python3"
  },
  "language_info": {
   "codemirror_mode": {
    "name": "ipython",
    "version": 3
   },
   "file_extension": ".py",
   "mimetype": "text/x-python",
   "name": "python",
   "nbconvert_exporter": "python",
   "pygments_lexer": "ipython3",
   "version": "3.8.6"
  }
 },
 "nbformat": 4,
 "nbformat_minor": 4
}
