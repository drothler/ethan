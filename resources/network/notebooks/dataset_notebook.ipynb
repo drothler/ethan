{
 "cells": [
  {
   "cell_type": "code",
   "execution_count": 1,
   "metadata": {},
   "outputs": [],
   "source": [
    "import pandas as pd\n",
    "import numpy as np\n",
    "import networkx as nx\n",
    "from tqdm import tqdm#\n",
    "from bs4 import BeautifulSoup\n",
    "from pathlib import Path\n",
    "import sys\n",
    "import os\n",
    "import time"
   ]
  },
  {
   "cell_type": "code",
   "execution_count": 2,
   "metadata": {},
   "outputs": [],
   "source": [
    "base_path = Path(\"../simulation_data/1_percent/v1\")\n",
    "graph_path = base_path / \"network/graph.gexf\"\n"
   ]
  },
  {
   "cell_type": "code",
   "execution_count": 3,
   "metadata": {},
   "outputs": [],
   "source": [
    "graph = nx.read_gpickle(graph_path)"
   ]
  },
  {
   "cell_type": "code",
   "execution_count": 4,
   "metadata": {},
   "outputs": [
    {
     "data": {
      "text/plain": [
       "118820"
      ]
     },
     "execution_count": 4,
     "metadata": {},
     "output_type": "execute_result"
    }
   ],
   "source": [
    "len(graph.nodes)"
   ]
  },
  {
   "cell_type": "code",
   "execution_count": 5,
   "metadata": {},
   "outputs": [],
   "source": [
    "mobility_events = base_path / \"mobility/output_events.xml\""
   ]
  },
  {
   "cell_type": "code",
   "execution_count": 6,
   "metadata": {},
   "outputs": [],
   "source": [
    "with open(mobility_events, \"r\") as handle:\n",
    "    event_content = handle.read()"
   ]
  },
  {
   "cell_type": "code",
   "execution_count": 10,
   "metadata": {},
   "outputs": [],
   "source": [
    "soup = BeautifulSoup(event_content, features=\"xml\")"
   ]
  },
  {
   "cell_type": "code",
   "execution_count": 11,
   "metadata": {},
   "outputs": [
    {
     "data": {
      "text/plain": [
       "22229336"
      ]
     },
     "execution_count": 11,
     "metadata": {},
     "output_type": "execute_result"
    }
   ],
   "source": [
    "len(soup.find_all(\"event\"))"
   ]
  },
  {
   "cell_type": "code",
   "execution_count": 13,
   "metadata": {},
   "outputs": [
    {
     "name": "stderr",
     "output_type": "stream",
     "text": [
      "100%|██████████| 22229336/22229336 [01:11<00:00, 309395.33it/s] \n"
     ]
    }
   ],
   "source": [
    "from tqdm import tqdm\n",
    "events = []\n",
    "for event in tqdm(soup.find_all(\"event\")):\n",
    "    events.append(event)"
   ]
  },
  {
   "cell_type": "code",
   "execution_count": 23,
   "metadata": {},
   "outputs": [
    {
     "name": "stderr",
     "output_type": "stream",
     "text": [
      "100%|██████████| 22229336/22229336 [05:02<00:00, 73401.13it/s] \n"
     ]
    }
   ],
   "source": [
    "dataframe_matrix = []\n",
    "problems = []\n",
    "for event in tqdm(soup.find_all(\"event\")):\n",
    "    try:\n",
    "        dataframe_matrix.append([event[\"person\"], event[\"time\"], event[\"type\"]])\n",
    "    except:\n",
    "        problems.append(event)"
   ]
  },
  {
   "cell_type": "code",
   "execution_count": 22,
   "metadata": {},
   "outputs": [
    {
     "data": {
      "text/plain": [
       "<event actType=\"work\" facility=\"work_247522\" link=\"614698\" person=\"5279463\" time=\"346.0\" type=\"actend\"/>"
      ]
     },
     "execution_count": 22,
     "metadata": {},
     "output_type": "execute_result"
    }
   ],
   "source": [
    "soup.find(\"event\")"
   ]
  },
  {
   "cell_type": "code",
   "execution_count": 26,
   "metadata": {},
   "outputs": [],
   "source": [
    "concept_dataframe = pd.DataFrame(dataframe_matrix, columns=[\"person_id\", \"timeframe\", \"action\"])"
   ]
  },
  {
   "cell_type": "code",
   "execution_count": 74,
   "metadata": {},
   "outputs": [],
   "source": [
    "concept_dataframe = pd.read_csv(\"concept_dataframe.csv\")"
   ]
  },
  {
   "cell_type": "code",
   "execution_count": 75,
   "metadata": {},
   "outputs": [
    {
     "name": "stderr",
     "output_type": "stream",
     "text": [
      "/usr/local/lib/python3.8/site-packages/tqdm/std.py:697: FutureWarning: The Panel class is removed from pandas. Accessing it from the top-level namespace will also be removed in the next version\n",
      "  from pandas import Panel\n",
      "100%|██████████| 3640317/3640317 [00:39<00:00, 91688.35it/s]\n"
     ]
    }
   ],
   "source": [
    "from string import Template\n",
    "\n",
    "class DeltaTemplate(Template):\n",
    "    delimiter = \"%\"\n",
    "\n",
    "def strfdelta(tdelta, fmt):\n",
    "    d = {\"D\": tdelta.days}\n",
    "    hours, rem = divmod(tdelta.seconds, 3600)\n",
    "    minutes, seconds = divmod(rem, 60)\n",
    "    d[\"H\"] = '{:02d}'.format(hours)\n",
    "    d[\"M\"] = '{:02d}'.format(minutes)\n",
    "    d[\"S\"] = '{:02d}'.format(seconds)\n",
    "    t = DeltaTemplate(fmt)\n",
    "    return t.substitute(**d)\n",
    "\n",
    "def transform_date(x):\n",
    "    try:\n",
    "        return \"2021-02-07 \" + strfdelta(timedelta(seconds=float(x)), '%H-%M-%S')\n",
    "    except:\n",
    "        print(x)\n",
    "\n",
    "tqdm.pandas()\n",
    "timeframe_column = concept_dataframe[\"timeframe\"].progress_apply(transform_date)"
   ]
  },
  {
   "cell_type": "code",
   "execution_count": 76,
   "metadata": {},
   "outputs": [],
   "source": [
    "import datetime\n",
    "t = datetime.timedelta(seconds=float(concept_dataframe[\"timeframe\"][0]))"
   ]
  },
  {
   "cell_type": "code",
   "execution_count": 77,
   "metadata": {},
   "outputs": [],
   "source": [
    "concept_dataframe[\"timeframe\"] = list(timeframe_column)"
   ]
  },
  {
   "cell_type": "code",
   "execution_count": 78,
   "metadata": {},
   "outputs": [],
   "source": [
    "concept_dataframe.to_csv(\"concept_dataframe_v2.csv\")"
   ]
  },
  {
   "cell_type": "code",
   "execution_count": 81,
   "metadata": {},
   "outputs": [
    {
     "data": {
      "text/plain": [
       "datetime.datetime(2021, 2, 7, 0, 5, 46)"
      ]
     },
     "execution_count": 81,
     "metadata": {},
     "output_type": "execute_result"
    }
   ],
   "source": [
    "datetime.datetime.strptime(\"2021-02-07 00-05-46\", '%Y-%m-%d %H-%M-%S')"
   ]
  },
  {
   "cell_type": "code",
   "execution_count": 90,
   "metadata": {},
   "outputs": [
    {
     "data": {
      "text/html": [
       "<div>\n",
       "<style scoped>\n",
       "    .dataframe tbody tr th:only-of-type {\n",
       "        vertical-align: middle;\n",
       "    }\n",
       "\n",
       "    .dataframe tbody tr th {\n",
       "        vertical-align: top;\n",
       "    }\n",
       "\n",
       "    .dataframe thead th {\n",
       "        text-align: right;\n",
       "    }\n",
       "</style>\n",
       "<table border=\"1\" class=\"dataframe\">\n",
       "  <thead>\n",
       "    <tr style=\"text-align: right;\">\n",
       "      <th></th>\n",
       "      <th>id</th>\n",
       "      <th>concept</th>\n",
       "      <th>datetime</th>\n",
       "    </tr>\n",
       "  </thead>\n",
       "  <tbody>\n",
       "    <tr>\n",
       "      <th>0</th>\n",
       "      <td>5279463</td>\n",
       "      <td>actend</td>\n",
       "      <td>2021-02-07 00-05-46</td>\n",
       "    </tr>\n",
       "    <tr>\n",
       "      <th>1</th>\n",
       "      <td>5279463</td>\n",
       "      <td>departure</td>\n",
       "      <td>2021-02-07 00-05-46</td>\n",
       "    </tr>\n",
       "    <tr>\n",
       "      <th>2</th>\n",
       "      <td>5279463</td>\n",
       "      <td>PersonEntersVehicle</td>\n",
       "      <td>2021-02-07 00-05-46</td>\n",
       "    </tr>\n",
       "    <tr>\n",
       "      <th>3</th>\n",
       "      <td>5279463</td>\n",
       "      <td>vehicle enters traffic</td>\n",
       "      <td>2021-02-07 00-05-46</td>\n",
       "    </tr>\n",
       "    <tr>\n",
       "      <th>4</th>\n",
       "      <td>4356038</td>\n",
       "      <td>actend</td>\n",
       "      <td>2021-02-07 00-37-10</td>\n",
       "    </tr>\n",
       "    <tr>\n",
       "      <th>...</th>\n",
       "      <td>...</td>\n",
       "      <td>...</td>\n",
       "      <td>...</td>\n",
       "    </tr>\n",
       "    <tr>\n",
       "      <th>3640312</th>\n",
       "      <td>10861553</td>\n",
       "      <td>stuckAndAbort</td>\n",
       "      <td>2021-02-07 06-00-00</td>\n",
       "    </tr>\n",
       "    <tr>\n",
       "      <th>3640313</th>\n",
       "      <td>3089455</td>\n",
       "      <td>stuckAndAbort</td>\n",
       "      <td>2021-02-07 06-00-00</td>\n",
       "    </tr>\n",
       "    <tr>\n",
       "      <th>3640314</th>\n",
       "      <td>2475005</td>\n",
       "      <td>stuckAndAbort</td>\n",
       "      <td>2021-02-07 06-00-00</td>\n",
       "    </tr>\n",
       "    <tr>\n",
       "      <th>3640315</th>\n",
       "      <td>5045685</td>\n",
       "      <td>stuckAndAbort</td>\n",
       "      <td>2021-02-07 06-00-00</td>\n",
       "    </tr>\n",
       "    <tr>\n",
       "      <th>3640316</th>\n",
       "      <td>4934166</td>\n",
       "      <td>stuckAndAbort</td>\n",
       "      <td>2021-02-07 06-00-00</td>\n",
       "    </tr>\n",
       "  </tbody>\n",
       "</table>\n",
       "<p>3640317 rows × 3 columns</p>\n",
       "</div>"
      ],
      "text/plain": [
       "               id                 concept             datetime\n",
       "0         5279463                  actend  2021-02-07 00-05-46\n",
       "1         5279463               departure  2021-02-07 00-05-46\n",
       "2         5279463     PersonEntersVehicle  2021-02-07 00-05-46\n",
       "3         5279463  vehicle enters traffic  2021-02-07 00-05-46\n",
       "4         4356038                  actend  2021-02-07 00-37-10\n",
       "...           ...                     ...                  ...\n",
       "3640312  10861553           stuckAndAbort  2021-02-07 06-00-00\n",
       "3640313   3089455           stuckAndAbort  2021-02-07 06-00-00\n",
       "3640314   2475005           stuckAndAbort  2021-02-07 06-00-00\n",
       "3640315   5045685           stuckAndAbort  2021-02-07 06-00-00\n",
       "3640316   4934166           stuckAndAbort  2021-02-07 06-00-00\n",
       "\n",
       "[3640317 rows x 3 columns]"
      ]
     },
     "execution_count": 90,
     "metadata": {},
     "output_type": "execute_result"
    }
   ],
   "source": [
    "concept_dataframe = concept_dataframe.rename({\"person_id\": \"id\", \"action\": \"concept\"}, axis=1).drop(\"Unnamed: 0\", axis=1)\n",
    "concept_dataframe"
   ]
  },
  {
   "cell_type": "code",
   "execution_count": 91,
   "metadata": {},
   "outputs": [],
   "source": [
    "concept_dataframe.to_csv(\"concept_dataframe_v2.csv\")"
   ]
  },
  {
   "cell_type": "code",
   "execution_count": 95,
   "metadata": {},
   "outputs": [
    {
     "data": {
      "text/plain": [
       "0         2021-02-07 00:05:46\n",
       "1         2021-02-07 00:05:46\n",
       "2         2021-02-07 00:05:46\n",
       "3         2021-02-07 00:05:46\n",
       "4         2021-02-07 00:37:10\n",
       "                  ...        \n",
       "3640312   2021-02-07 06:00:00\n",
       "3640313   2021-02-07 06:00:00\n",
       "3640314   2021-02-07 06:00:00\n",
       "3640315   2021-02-07 06:00:00\n",
       "3640316   2021-02-07 06:00:00\n",
       "Name: datetime, Length: 3640317, dtype: datetime64[ns]"
      ]
     },
     "execution_count": 95,
     "metadata": {},
     "output_type": "execute_result"
    }
   ],
   "source": [
    "pd.to_datetime(concept_dataframe[\"datetime\"], errors='coerce', format='%Y-%m-%d %H-%M-%S')"
   ]
  },
  {
   "cell_type": "code",
   "execution_count": null,
   "metadata": {},
   "outputs": [],
   "source": []
  }
 ],
 "metadata": {
  "kernelspec": {
   "display_name": "Python 3",
   "language": "python",
   "name": "python3"
  },
  "language_info": {
   "codemirror_mode": {
    "name": "ipython",
    "version": 3
   },
   "file_extension": ".py",
   "mimetype": "text/x-python",
   "name": "python",
   "nbconvert_exporter": "python",
   "pygments_lexer": "ipython3",
   "version": "3.8.6"
  }
 },
 "nbformat": 4,
 "nbformat_minor": 4
}
