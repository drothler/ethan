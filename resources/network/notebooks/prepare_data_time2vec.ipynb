{
 "cells": [
  {
   "cell_type": "code",
   "execution_count": 1,
   "metadata": {},
   "outputs": [],
   "source": [
    "from pathlib import Path\n",
    "from datetime import datetime\n",
    "import pandas as pd\n",
    "import numpy as np\n",
    "import time\n",
    "import sys\n",
    "import os\n",
    "import re"
   ]
  },
  {
   "cell_type": "code",
   "execution_count": 2,
   "metadata": {},
   "outputs": [],
   "source": [
    "test_df_path = Path(\"../data_file_v4_short.csv\")"
   ]
  },
  {
   "cell_type": "code",
   "execution_count": 3,
   "metadata": {},
   "outputs": [],
   "source": [
    "df = pd.read_csv(test_df_path)"
   ]
  },
  {
   "cell_type": "code",
   "execution_count": 6,
   "metadata": {},
   "outputs": [],
   "source": [
    "groups = df.groupby(\"id\")"
   ]
  },
  {
   "cell_type": "code",
   "execution_count": 11,
   "metadata": {},
   "outputs": [
    {
     "data": {
      "text/html": [
       "<div>\n",
       "<style scoped>\n",
       "    .dataframe tbody tr th:only-of-type {\n",
       "        vertical-align: middle;\n",
       "    }\n",
       "\n",
       "    .dataframe tbody tr th {\n",
       "        vertical-align: top;\n",
       "    }\n",
       "\n",
       "    .dataframe thead th {\n",
       "        text-align: right;\n",
       "    }\n",
       "</style>\n",
       "<table border=\"1\" class=\"dataframe\">\n",
       "  <thead>\n",
       "    <tr style=\"text-align: right;\">\n",
       "      <th></th>\n",
       "      <th>id</th>\n",
       "      <th>datetime</th>\n",
       "      <th>concept</th>\n",
       "    </tr>\n",
       "  </thead>\n",
       "  <tbody>\n",
       "    <tr>\n",
       "      <th>0</th>\n",
       "      <td>5279463</td>\n",
       "      <td>1970-01-01 01-05-46</td>\n",
       "      <td>actend</td>\n",
       "    </tr>\n",
       "    <tr>\n",
       "      <th>1</th>\n",
       "      <td>5279463</td>\n",
       "      <td>1970-01-01 01-05-46</td>\n",
       "      <td>departure</td>\n",
       "    </tr>\n",
       "    <tr>\n",
       "      <th>2</th>\n",
       "      <td>5279463</td>\n",
       "      <td>1970-01-01 01-05-46</td>\n",
       "      <td>PersonEntersVehicle</td>\n",
       "    </tr>\n",
       "    <tr>\n",
       "      <th>3</th>\n",
       "      <td>5279463</td>\n",
       "      <td>1970-01-01 01-05-46</td>\n",
       "      <td>vehicle enters traffic</td>\n",
       "    </tr>\n",
       "    <tr>\n",
       "      <th>4</th>\n",
       "      <td>4356038</td>\n",
       "      <td>1970-01-01 01-37-10</td>\n",
       "      <td>actend</td>\n",
       "    </tr>\n",
       "    <tr>\n",
       "      <th>...</th>\n",
       "      <td>...</td>\n",
       "      <td>...</td>\n",
       "      <td>...</td>\n",
       "    </tr>\n",
       "    <tr>\n",
       "      <th>49995</th>\n",
       "      <td>8731483</td>\n",
       "      <td>1970-01-01 07-31-30</td>\n",
       "      <td>vehicle enters traffic</td>\n",
       "    </tr>\n",
       "    <tr>\n",
       "      <th>49996</th>\n",
       "      <td>307591</td>\n",
       "      <td>1970-01-01 07-31-30</td>\n",
       "      <td>vehicle enters traffic</td>\n",
       "    </tr>\n",
       "    <tr>\n",
       "      <th>49997</th>\n",
       "      <td>1850739</td>\n",
       "      <td>1970-01-01 07-31-30</td>\n",
       "      <td>travelled</td>\n",
       "    </tr>\n",
       "    <tr>\n",
       "      <th>49998</th>\n",
       "      <td>1850739</td>\n",
       "      <td>1970-01-01 07-31-30</td>\n",
       "      <td>arrival</td>\n",
       "    </tr>\n",
       "    <tr>\n",
       "      <th>49999</th>\n",
       "      <td>1850739</td>\n",
       "      <td>1970-01-01 07-31-30</td>\n",
       "      <td>actstart</td>\n",
       "    </tr>\n",
       "  </tbody>\n",
       "</table>\n",
       "<p>50000 rows × 3 columns</p>\n",
       "</div>"
      ],
      "text/plain": [
       "            id             datetime                 concept\n",
       "0      5279463  1970-01-01 01-05-46                  actend\n",
       "1      5279463  1970-01-01 01-05-46               departure\n",
       "2      5279463  1970-01-01 01-05-46     PersonEntersVehicle\n",
       "3      5279463  1970-01-01 01-05-46  vehicle enters traffic\n",
       "4      4356038  1970-01-01 01-37-10                  actend\n",
       "...        ...                  ...                     ...\n",
       "49995  8731483  1970-01-01 07-31-30  vehicle enters traffic\n",
       "49996   307591  1970-01-01 07-31-30  vehicle enters traffic\n",
       "49997  1850739  1970-01-01 07-31-30               travelled\n",
       "49998  1850739  1970-01-01 07-31-30                 arrival\n",
       "49999  1850739  1970-01-01 07-31-30                actstart\n",
       "\n",
       "[50000 rows x 3 columns]"
      ]
     },
     "execution_count": 11,
     "metadata": {},
     "output_type": "execute_result"
    }
   ],
   "source": [
    "df"
   ]
  },
  {
   "cell_type": "code",
   "execution_count": null,
   "metadata": {},
   "outputs": [],
   "source": [
    "df1 = df.head(50000)\n",
    "df1.to_csv(\"../data_file_v4_short.csv\", index=False)"
   ]
  },
  {
   "cell_type": "code",
   "execution_count": null,
   "metadata": {},
   "outputs": [],
   "source": [
    "df1[\"datetime\"] = df1[\"datetime\"].apply(lambda seconds : datetime.fromtimestamp(seconds).strftime('%Y-%m-%d %H-%M-%S'))"
   ]
  },
  {
   "cell_type": "code",
   "execution_count": null,
   "metadata": {},
   "outputs": [],
   "source": [
    "df1.to_csv(\"../data_file_v4_short.csv\", index=False)"
   ]
  },
  {
   "cell_type": "code",
   "execution_count": null,
   "metadata": {},
   "outputs": [],
   "source": [
    "times = pd.to_datetime(df1[\"datetime\"], errors='coerce', format='%Y-%m-%d %H-%M-%S')"
   ]
  },
  {
   "cell_type": "code",
   "execution_count": null,
   "metadata": {},
   "outputs": [],
   "source": [
    "sum(pd.isnull(times))"
   ]
  },
  {
   "cell_type": "code",
   "execution_count": 12,
   "metadata": {},
   "outputs": [],
   "source": [
    "import pickle as pkl"
   ]
  },
  {
   "cell_type": "code",
   "execution_count": 15,
   "metadata": {},
   "outputs": [],
   "source": [
    "path = \"../embeddings.pkl\""
   ]
  },
  {
   "cell_type": "code",
   "execution_count": 16,
   "metadata": {},
   "outputs": [],
   "source": [
    "with open(path, \"rb\") as handle:\n",
    "    embeddings = pkl.load(handle)"
   ]
  },
  {
   "cell_type": "code",
   "execution_count": 18,
   "metadata": {},
   "outputs": [
    {
     "data": {
      "text/plain": [
       "13"
      ]
     },
     "execution_count": 18,
     "metadata": {},
     "output_type": "execute_result"
    }
   ],
   "source": [
    "len(embeddings[\"final_embeddings\"])"
   ]
  },
  {
   "cell_type": "code",
   "execution_count": 19,
   "metadata": {},
   "outputs": [
    {
     "data": {
      "text/plain": [
       "{'vocab': {'concept': 0,\n",
       "  'actend': 1,\n",
       "  'departure': 2,\n",
       "  'PersonEntersVehicle': 3,\n",
       "  'vehicle enters traffic': 4,\n",
       "  'vehicle leaves traffic': 5,\n",
       "  'PersonLeavesVehicle': 6,\n",
       "  'arrival': 7,\n",
       "  'actstart': 8,\n",
       "  'travelled': 9,\n",
       "  'stuckAndAbort': 10,\n",
       "  'pt_transit': 11,\n",
       "  'encounter': 12},\n",
       " 'vocab_size': 13,\n",
       " 'reverse_vocab': {0: 'concept',\n",
       "  1: 'actend',\n",
       "  2: 'departure',\n",
       "  3: 'PersonEntersVehicle',\n",
       "  4: 'vehicle enters traffic',\n",
       "  5: 'vehicle leaves traffic',\n",
       "  6: 'PersonLeavesVehicle',\n",
       "  7: 'arrival',\n",
       "  8: 'actstart',\n",
       "  9: 'travelled',\n",
       "  10: 'stuckAndAbort',\n",
       "  11: 'pt_transit',\n",
       "  12: 'encounter'},\n",
       " 'final_embeddings': array([[-4.4445586e-03, -4.8130155e-03, -4.2919028e-03, ...,\n",
       "         -3.7502395e-03, -8.0082566e-05,  3.4012087e-03],\n",
       "        [-3.0887738e-02, -7.2521460e-04,  1.5798172e-03, ...,\n",
       "          1.1286452e-01, -1.5724748e-02,  5.0326092e-03],\n",
       "        [-7.5671308e-02,  2.1866336e-03,  2.5645515e-03, ...,\n",
       "          1.7359743e-01, -1.1762439e-02,  3.4171015e-02],\n",
       "        ...,\n",
       "        [ 4.8296608e-02, -4.0135294e-02, -9.9803405e-03, ...,\n",
       "         -1.2489012e+00, -3.6742695e-02, -2.6438752e-02],\n",
       "        [-2.0021945e-02,  3.7088443e-03,  1.4868916e-03, ...,\n",
       "          2.2146363e+00, -3.8540605e-03,  3.0933106e-02],\n",
       "        [ 1.5769416e-01, -4.7387588e-03, -1.7589364e-02, ...,\n",
       "         -8.6239010e-01,  7.5324535e-02, -6.9421977e-02]], dtype=float32)}"
      ]
     },
     "execution_count": 19,
     "metadata": {},
     "output_type": "execute_result"
    }
   ],
   "source": [
    "embeddings"
   ]
  },
  {
   "cell_type": "code",
   "execution_count": null,
   "metadata": {},
   "outputs": [],
   "source": []
  }
 ],
 "metadata": {
  "kernelspec": {
   "display_name": "Python 3",
   "language": "python",
   "name": "python3"
  },
  "language_info": {
   "codemirror_mode": {
    "name": "ipython",
    "version": 3
   },
   "file_extension": ".py",
   "mimetype": "text/x-python",
   "name": "python",
   "nbconvert_exporter": "python",
   "pygments_lexer": "ipython3",
   "version": "3.8.6"
  }
 },
 "nbformat": 4,
 "nbformat_minor": 5
}
