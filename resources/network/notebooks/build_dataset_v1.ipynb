{
 "cells": [
  {
   "cell_type": "code",
   "execution_count": 1,
   "metadata": {},
   "outputs": [],
   "source": [
    "import pandas as pd\n",
    "import numpy as np\n",
    "from pathlib import Path\n",
    "from xml.etree import ElementTree\n",
    "from tqdm import tqdm"
   ]
  },
  {
   "cell_type": "code",
   "execution_count": 2,
   "metadata": {},
   "outputs": [],
   "source": [
    "base_path = Path(\"../simulation_data/v4/\")\n",
    "\n",
    "#specialized paths\n",
    "network_path = base_path / \"network\"\n",
    "mobility_path = base_path / \"mobility\"\n",
    "disease_path = base_path / \"disease\"\n",
    "events_path = base_path / \"events\""
   ]
  },
  {
   "cell_type": "code",
   "execution_count": 3,
   "metadata": {},
   "outputs": [
    {
     "name": "stderr",
     "output_type": "stream",
     "text": [
      "100%|██████████| 10/10 [12:24<00:00, 74.42s/it]\n"
     ]
    }
   ],
   "source": [
    "trees = []\n",
    "for i in tqdm(range(1, 11)):\n",
    "    filename = \"\"\n",
    "    if i % 10 == i:\n",
    "        filename = f\"day_00{i}.xml\"\n",
    "    else:\n",
    "        filename = f\"day_0{i}.xml\"\n",
    "    trees.append(ElementTree.parse(events_path / filename))\n"
   ]
  },
  {
   "cell_type": "code",
   "execution_count": 4,
   "metadata": {},
   "outputs": [
    {
     "name": "stderr",
     "output_type": "stream",
     "text": [
      "100%|██████████| 10/10 [03:53<00:00, 23.32s/it]\n"
     ]
    }
   ],
   "source": [
    "day_events = []\n",
    "for tree in tqdm(trees):\n",
    "    root = tree.getroot()\n",
    "    events = []\n",
    "    for child in root:\n",
    "        if child.attrib[\"type\"] == \"episimPersonStatus\":\n",
    "            continue\n",
    "        events.append(child.attrib)\n",
    "    day_events.append(events)"
   ]
  },
  {
   "cell_type": "code",
   "execution_count": 5,
   "metadata": {},
   "outputs": [
    {
     "name": "stderr",
     "output_type": "stream",
     "text": [
      "100%|██████████| 10/10 [02:16<00:00, 13.63s/it]\n"
     ]
    }
   ],
   "source": [
    "from collections import defaultdict\n",
    "cnt = defaultdict(int)\n",
    "\n",
    "for days in tqdm(day_events):\n",
    "    \n",
    "    for event in days:\n",
    "        cnt[event[\"type\"]] += 1"
   ]
  },
  {
   "cell_type": "code",
   "execution_count": 24,
   "metadata": {},
   "outputs": [
    {
     "data": {
      "text/plain": [
       "defaultdict(int,\n",
       "            {'actend': 3643270,\n",
       "             'PersonEntersVehicle': 3032220,\n",
       "             'PersonLeavesVehicle': 3032210,\n",
       "             'actstart': 3615620,\n",
       "             'episimContact': 6039942,\n",
       "             'episimAlmostContact': 3818469,\n",
       "             'episimInfection': 210,\n",
       "             'QuaratineStatusChanged': 48})"
      ]
     },
     "execution_count": 24,
     "metadata": {},
     "output_type": "execute_result"
    }
   ],
   "source": [
    "cnt"
   ]
  },
  {
   "cell_type": "code",
   "execution_count": 7,
   "metadata": {},
   "outputs": [
    {
     "name": "stderr",
     "output_type": "stream",
     "text": [
      "100%|██████████| 2314291/2314291 [00:13<00:00, 171141.16it/s]\n"
     ]
    }
   ],
   "source": [
    "events = day_events[0]\n",
    "\n",
    "timeline = [0]\n",
    "person = \"3327462\"\n",
    "\n",
    "for event in tqdm(events):\n",
    "    if event[\"person\"] == person:\n",
    "        timeline.append(event)"
   ]
  },
  {
   "cell_type": "code",
   "execution_count": 8,
   "metadata": {},
   "outputs": [
    {
     "name": "stderr",
     "output_type": "stream",
     "text": [
      "100%|██████████| 10/10 [02:03<00:00, 12.34s/it]\n"
     ]
    }
   ],
   "source": [
    "persons = set()\n",
    "for day in tqdm(day_events):\n",
    "    \n",
    "    for event in day:\n",
    "        persons.add(event[\"person\"])\n",
    "        "
   ]
  },
  {
   "cell_type": "code",
   "execution_count": 9,
   "metadata": {},
   "outputs": [
    {
     "name": "stderr",
     "output_type": "stream",
     "text": [
      "10it [04:37, 27.77s/it]\n"
     ]
    }
   ],
   "source": [
    "days_by_person = list()\n",
    "\n",
    "for d, day in tqdm(enumerate(day_events)):\n",
    "    daily = defaultdict(list)\n",
    "    for event in day:\n",
    "        daily[event[\"person\"]].append(event)\n",
    "    days_by_person.append(daily)"
   ]
  },
  {
   "cell_type": "code",
   "execution_count": 10,
   "metadata": {},
   "outputs": [
    {
     "name": "stderr",
     "output_type": "stream",
     "text": [
      "100%|██████████| 10/10 [01:06<00:00,  6.67s/it]\n"
     ]
    }
   ],
   "source": [
    "event_counter = defaultdict(int)\n",
    "\n",
    "for day in tqdm(days_by_person):\n",
    "    \n",
    "    for person, events in day.items():\n",
    "        event_counter[len(events)] += 1"
   ]
  },
  {
   "cell_type": "code",
   "execution_count": 11,
   "metadata": {},
   "outputs": [],
   "source": [
    "number_events, counts = zip(*sorted(event_counter.items()))"
   ]
  },
  {
   "cell_type": "code",
   "execution_count": 12,
   "metadata": {},
   "outputs": [
    {
     "data": {
      "image/png": "[encoded data removed]",
      "text/plain": [
       "<Figure size 1440x720 with 1 Axes>"
      ]
     },
     "metadata": {
      "needs_background": "light"
     },
     "output_type": "display_data"
    }
   ],
   "source": [
    "from matplotlib import pyplot as plt\n",
    "\n",
    "plt.figure(figsize=(20, 10))\n",
    "\n",
    "plt.plot(number_events, counts, \"*\")\n",
    "plt.xlabel(\"Number of daily events\")\n",
    "plt.ylabel(\"Count of number of daily events\")\n",
    "plt.savefig(\"distribution_of_events.svg\")\n",
    "plt.show()"
   ]
  },
  {
   "cell_type": "code",
   "execution_count": 13,
   "metadata": {},
   "outputs": [],
   "source": [
    "test_df = pd.DataFrame(None, columns=[\"Col1\", \"Col2\", \"Col3\"])"
   ]
  },
  {
   "cell_type": "code",
   "execution_count": 21,
   "metadata": {},
   "outputs": [],
   "source": [
    "test_df = test_df.append({\"Col1\": 1, \"Col2\": 2, \"Col3\": 3}, ignore_index=True)"
   ]
  },
  {
   "cell_type": "code",
   "execution_count": 22,
   "metadata": {},
   "outputs": [
    {
     "data": {
      "text/html": [
       "<div>\n",
       "<style scoped>\n",
       "    .dataframe tbody tr th:only-of-type {\n",
       "        vertical-align: middle;\n",
       "    }\n",
       "\n",
       "    .dataframe tbody tr th {\n",
       "        vertical-align: top;\n",
       "    }\n",
       "\n",
       "    .dataframe thead th {\n",
       "        text-align: right;\n",
       "    }\n",
       "</style>\n",
       "<table border=\"1\" class=\"dataframe\">\n",
       "  <thead>\n",
       "    <tr style=\"text-align: right;\">\n",
       "      <th></th>\n",
       "      <th>Col1</th>\n",
       "      <th>Col2</th>\n",
       "      <th>Col3</th>\n",
       "    </tr>\n",
       "  </thead>\n",
       "  <tbody>\n",
       "    <tr>\n",
       "      <th>0</th>\n",
       "      <td>1</td>\n",
       "      <td>2</td>\n",
       "      <td>3</td>\n",
       "    </tr>\n",
       "  </tbody>\n",
       "</table>\n",
       "</div>"
      ],
      "text/plain": [
       "  Col1 Col2 Col3\n",
       "0    1    2    3"
      ]
     },
     "execution_count": 22,
     "metadata": {},
     "output_type": "execute_result"
    }
   ],
   "source": [
    "test_df"
   ]
  },
  {
   "cell_type": "code",
   "execution_count": 25,
   "metadata": {},
   "outputs": [],
   "source": [
    "filename = f\"day_001.xml\"\n",
    "fullpath = events_path / filename\n"
   ]
  },
  {
   "cell_type": "code",
   "execution_count": 27,
   "metadata": {},
   "outputs": [],
   "source": [
    "single_tree = ElementTree.parse(fullpath)"
   ]
  },
  {
   "cell_type": "code",
   "execution_count": 29,
   "metadata": {},
   "outputs": [
    {
     "name": "stderr",
     "output_type": "stream",
     "text": [
      "100%|██████████| 2314301/2314301 [00:08<00:00, 269396.15it/s]\n"
     ]
    }
   ],
   "source": [
    "registry = defaultdict(dict)\n",
    "\n",
    "for child in tqdm(single_tree.getroot()):\n",
    "    if len(registry) == 8:\n",
    "        break\n",
    "    registry[child.attrib[\"type\"]] = child"
   ]
  },
  {
   "cell_type": "code",
   "execution_count": 9,
   "metadata": {},
   "outputs": [],
   "source": [
    "files = []\n",
    "for i in range(1, 4):\n",
    "    if i % 10 == i:\n",
    "        files.append(f\"day_00{i}.xml\")\n",
    "    else:\n",
    "        files.append(f\"day_0{i}.xml\")\n",
    "folder = \"../simulation_data/v4/events\""
   ]
  },
  {
   "cell_type": "code",
   "execution_count": 13,
   "metadata": {},
   "outputs": [
    {
     "name": "stderr",
     "output_type": "stream",
     "text": [
      "100%|██████████| 3/3 [02:03<00:00, 41.00s/it]\n"
     ]
    }
   ],
   "source": [
    "import os\n",
    "c = 0\n",
    "\n",
    "for file in tqdm(files):\n",
    "    tree = ElementTree.parse(os.path.join(folder, file))\n",
    "    \n",
    "    root = tree.getroot()\n",
    "    \n",
    "    for child in root:\n",
    "        c += 1\n",
    "    "
   ]
  },
  {
   "cell_type": "code",
   "execution_count": 15,
   "metadata": {},
   "outputs": [],
   "source": [
    "facility_tree = ElementTree.parse(mobility_path / \"output_facilities.xml\")"
   ]
  },
  {
   "cell_type": "code",
   "execution_count": 28,
   "metadata": {},
   "outputs": [
    {
     "name": "stderr",
     "output_type": "stream",
     "text": [
      "<ipython-input-28-eb14059a6b5f>:6: DeprecationWarning: This method will be removed in future versions.  Use 'list(elem)' or iteration over elem instead.\n",
      "  type_of_facilities.add(child.getchildren()[0].attrib[\"type\"])\n"
     ]
    }
   ],
   "source": [
    "type_of_facilities = set()\n",
    "\n",
    "root = facility_tree.getroot()\n",
    "for child in root:\n",
    "    \n",
    "    type_of_facilities.add(child.getchildren()[0].attrib[\"type\"])"
   ]
  },
  {
   "cell_type": "code",
   "execution_count": 29,
   "metadata": {},
   "outputs": [
    {
     "data": {
      "text/plain": [
       "{'education', 'home', 'leisure', 'other', 'shop', 'work'}"
      ]
     },
     "execution_count": 29,
     "metadata": {},
     "output_type": "execute_result"
    }
   ],
   "source": [
    "type_of_facilities"
   ]
  },
  {
   "cell_type": "code",
   "execution_count": null,
   "metadata": {},
   "outputs": [],
   "source": []
  }
 ],
 "metadata": {
  "kernelspec": {
   "display_name": "Python 3",
   "language": "python",
   "name": "python3"
  },
  "language_info": {
   "codemirror_mode": {
    "name": "ipython",
    "version": 3
   },
   "file_extension": ".py",
   "mimetype": "text/x-python",
   "name": "python",
   "nbconvert_exporter": "python",
   "pygments_lexer": "ipython3",
   "version": "3.8.6"
  }
 },
 "nbformat": 4,
 "nbformat_minor": 4
}
