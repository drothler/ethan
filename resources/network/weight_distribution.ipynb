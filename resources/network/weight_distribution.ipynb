{
 "cells": [
  {
   "cell_type": "code",
   "execution_count": 43,
   "metadata": {},
   "outputs": [],
   "source": [
    "import matplotlib.pyplot as plt\n",
    "import numpy as np\n",
    "import pandas as pd\n",
    "import os\n",
    "import sys"
   ]
  },
  {
   "cell_type": "code",
   "execution_count": 44,
   "metadata": {},
   "outputs": [],
   "source": [
    "def exponential_decay(x):\n",
    "    return 50*np.e**(-0.09*x)\n",
    "\n",
    "x = list(range(100))\n"
   ]
  },
  {
   "cell_type": "code",
   "execution_count": 14,
   "metadata": {},
   "outputs": [
    {
     "data": {
      "image/png": "[encoded data removed]",
      "text/plain": [
       "<Figure size 432x288 with 1 Axes>"
      ]
     },
     "metadata": {
      "needs_background": "light"
     },
     "output_type": "display_data"
    }
   ],
   "source": [
    "plt.plot(x, [exponential_decay(x) for x in x])\n",
    "plt.show()"
   ]
  },
  {
   "cell_type": "code",
   "execution_count": 45,
   "metadata": {},
   "outputs": [],
   "source": [
    "df = pd.read_csv(\"./actions_1_v2.csv\")"
   ]
  },
  {
   "cell_type": "code",
   "execution_count": 26,
   "metadata": {},
   "outputs": [],
   "source": [
    "from collections import Counter\n",
    "\n",
    "\n",
    "def func(concept):\n",
    "    counte\n",
    "\n",
    "cnt = Counter(list(df[\"concept\"]))"
   ]
  },
  {
   "cell_type": "code",
   "execution_count": 27,
   "metadata": {},
   "outputs": [],
   "source": [
    "values = cnt.values()"
   ]
  },
  {
   "cell_type": "code",
   "execution_count": 29,
   "metadata": {},
   "outputs": [
    {
     "data": {
      "text/plain": [
       "[<matplotlib.lines.Line2D at 0x11cdd5490>]"
      ]
     },
     "execution_count": 29,
     "metadata": {},
     "output_type": "execute_result"
    },
    {
     "data": {
      "image/png": "[encoded data removed]",
      "text/plain": [
       "<Figure size 432x288 with 1 Axes>"
      ]
     },
     "metadata": {
      "needs_background": "light"
     },
     "output_type": "display_data"
    }
   ],
   "source": [
    "from collections import defaultdict\n",
    "cnt_values = defaultdict(int)\n",
    "\n",
    "for value in values:\n",
    "    cnt_values[value] += 1\n",
    "\n",
    "plt.plot(list(cnt_values.keys()), list(cnt_values.values()), \"*\")"
   ]
  },
  {
   "cell_type": "code",
   "execution_count": 42,
   "metadata": {},
   "outputs": [
    {
     "data": {
      "text/plain": [
       "82800"
      ]
     },
     "execution_count": 42,
     "metadata": {},
     "output_type": "execute_result"
    }
   ],
   "source": [
    "(pd.to_datetime([\"1970-01-02 09:59:45\"], format=\"%Y-%m-%d %H:%M:%S\") - pd.to_datetime([\"1970-01-02 10:59:45\"], format=\"%Y-%m-%d %H:%M:%S\")).seconds[0]"
   ]
  },
  {
   "cell_type": "code",
   "execution_count": 51,
   "metadata": {},
   "outputs": [],
   "source": [
    "test = df[\"datetime\"].apply(lambda time : time is pd.NaT)"
   ]
  },
  {
   "cell_type": "code",
   "execution_count": 54,
   "metadata": {},
   "outputs": [],
   "source": [
    "df_1 = pd.read_csv(\"./actions_1_v2.csv\", chunksize=10)"
   ]
  },
  {
   "cell_type": "code",
   "execution_count": 55,
   "metadata": {},
   "outputs": [],
   "source": [
    "sample = next(df_1)"
   ]
  },
  {
   "cell_type": "code",
   "execution_count": 57,
   "metadata": {},
   "outputs": [
    {
     "data": {
      "text/html": [
       "<div>\n",
       "<style scoped>\n",
       "    .dataframe tbody tr th:only-of-type {\n",
       "        vertical-align: middle;\n",
       "    }\n",
       "\n",
       "    .dataframe tbody tr th {\n",
       "        vertical-align: top;\n",
       "    }\n",
       "\n",
       "    .dataframe thead th {\n",
       "        text-align: right;\n",
       "    }\n",
       "</style>\n",
       "<table border=\"1\" class=\"dataframe\">\n",
       "  <thead>\n",
       "    <tr style=\"text-align: right;\">\n",
       "      <th></th>\n",
       "      <th>id</th>\n",
       "      <th>datetime</th>\n",
       "      <th>concept</th>\n",
       "      <th>duration</th>\n",
       "      <th>groupSize</th>\n",
       "      <th>contact</th>\n",
       "    </tr>\n",
       "  </thead>\n",
       "  <tbody>\n",
       "    <tr>\n",
       "      <th>0</th>\n",
       "      <td>21</td>\n",
       "      <td>1970-01-02 09-59-45</td>\n",
       "      <td>sec_490124</td>\n",
       "      <td>2452</td>\n",
       "      <td>1</td>\n",
       "      <td>False</td>\n",
       "    </tr>\n",
       "    <tr>\n",
       "      <th>1</th>\n",
       "      <td>21</td>\n",
       "      <td>1970-01-02 10-47-12</td>\n",
       "      <td>sec_425380</td>\n",
       "      <td>1405</td>\n",
       "      <td>1</td>\n",
       "      <td>False</td>\n",
       "    </tr>\n",
       "    <tr>\n",
       "      <th>2</th>\n",
       "      <td>21</td>\n",
       "      <td>1970-01-02 11-20-14</td>\n",
       "      <td>home_5</td>\n",
       "      <td>12023</td>\n",
       "      <td>1</td>\n",
       "      <td>False</td>\n",
       "    </tr>\n",
       "    <tr>\n",
       "      <th>3</th>\n",
       "      <td>21</td>\n",
       "      <td>1970-01-02 14-43-00</td>\n",
       "      <td>PT!100110007:7!120200199-1_202458!120062097-1_...</td>\n",
       "      <td>480</td>\n",
       "      <td>2</td>\n",
       "      <td>True</td>\n",
       "    </tr>\n",
       "    <tr>\n",
       "      <th>4</th>\n",
       "      <td>21</td>\n",
       "      <td>1970-01-02 14-56-00</td>\n",
       "      <td>PT!100100180:180!120178341-1_235191!120178340-...</td>\n",
       "      <td>899</td>\n",
       "      <td>1</td>\n",
       "      <td>False</td>\n",
       "    </tr>\n",
       "    <tr>\n",
       "      <th>5</th>\n",
       "      <td>21</td>\n",
       "      <td>1970-01-02 15-13-28</td>\n",
       "      <td>sec_349262</td>\n",
       "      <td>3429</td>\n",
       "      <td>1</td>\n",
       "      <td>False</td>\n",
       "    </tr>\n",
       "    <tr>\n",
       "      <th>6</th>\n",
       "      <td>21</td>\n",
       "      <td>1970-01-02 16-17-00</td>\n",
       "      <td>PT!100100132:132!118429989-1_266853!118429989-...</td>\n",
       "      <td>780</td>\n",
       "      <td>1</td>\n",
       "      <td>False</td>\n",
       "    </tr>\n",
       "    <tr>\n",
       "      <th>7</th>\n",
       "      <td>21</td>\n",
       "      <td>1970-01-02 16-35-00</td>\n",
       "      <td>PT!100110007:7!120062240-1_203260!120062240-1_...</td>\n",
       "      <td>419</td>\n",
       "      <td>2</td>\n",
       "      <td>True</td>\n",
       "    </tr>\n",
       "    <tr>\n",
       "      <th>8</th>\n",
       "      <td>288</td>\n",
       "      <td>1970-01-02 08-15-38</td>\n",
       "      <td>sec_327683</td>\n",
       "      <td>7959</td>\n",
       "      <td>2</td>\n",
       "      <td>True</td>\n",
       "    </tr>\n",
       "    <tr>\n",
       "      <th>9</th>\n",
       "      <td>288</td>\n",
       "      <td>1970-01-02 10-37-47</td>\n",
       "      <td>home_153</td>\n",
       "      <td>13287</td>\n",
       "      <td>1</td>\n",
       "      <td>False</td>\n",
       "    </tr>\n",
       "  </tbody>\n",
       "</table>\n",
       "</div>"
      ],
      "text/plain": [
       "    id             datetime  \\\n",
       "0   21  1970-01-02 09-59-45   \n",
       "1   21  1970-01-02 10-47-12   \n",
       "2   21  1970-01-02 11-20-14   \n",
       "3   21  1970-01-02 14-43-00   \n",
       "4   21  1970-01-02 14-56-00   \n",
       "5   21  1970-01-02 15-13-28   \n",
       "6   21  1970-01-02 16-17-00   \n",
       "7   21  1970-01-02 16-35-00   \n",
       "8  288  1970-01-02 08-15-38   \n",
       "9  288  1970-01-02 10-37-47   \n",
       "\n",
       "                                             concept  duration  groupSize  \\\n",
       "0                                         sec_490124      2452          1   \n",
       "1                                         sec_425380      1405          1   \n",
       "2                                             home_5     12023          1   \n",
       "3  PT!100110007:7!120200199-1_202458!120062097-1_...       480          2   \n",
       "4  PT!100100180:180!120178341-1_235191!120178340-...       899          1   \n",
       "5                                         sec_349262      3429          1   \n",
       "6  PT!100100132:132!118429989-1_266853!118429989-...       780          1   \n",
       "7  PT!100110007:7!120062240-1_203260!120062240-1_...       419          2   \n",
       "8                                         sec_327683      7959          2   \n",
       "9                                           home_153     13287          1   \n",
       "\n",
       "   contact  \n",
       "0    False  \n",
       "1    False  \n",
       "2    False  \n",
       "3     True  \n",
       "4    False  \n",
       "5    False  \n",
       "6    False  \n",
       "7     True  \n",
       "8     True  \n",
       "9    False  "
      ]
     },
     "execution_count": 57,
     "metadata": {},
     "output_type": "execute_result"
    }
   ],
   "source": [
    "sample.reset_index(drop=True)"
   ]
  },
  {
   "cell_type": "code",
   "execution_count": 58,
   "metadata": {},
   "outputs": [],
   "source": [
    "sample['datetime'] = pd.to_datetime(sample['datetime'], errors='coerce', format='%Y-%m-%d %H-%M-%S')"
   ]
  },
  {
   "cell_type": "code",
   "execution_count": 59,
   "metadata": {},
   "outputs": [
    {
     "data": {
      "text/html": [
       "<div>\n",
       "<style scoped>\n",
       "    .dataframe tbody tr th:only-of-type {\n",
       "        vertical-align: middle;\n",
       "    }\n",
       "\n",
       "    .dataframe tbody tr th {\n",
       "        vertical-align: top;\n",
       "    }\n",
       "\n",
       "    .dataframe thead th {\n",
       "        text-align: right;\n",
       "    }\n",
       "</style>\n",
       "<table border=\"1\" class=\"dataframe\">\n",
       "  <thead>\n",
       "    <tr style=\"text-align: right;\">\n",
       "      <th></th>\n",
       "      <th>id</th>\n",
       "      <th>datetime</th>\n",
       "      <th>concept</th>\n",
       "      <th>duration</th>\n",
       "      <th>groupSize</th>\n",
       "      <th>contact</th>\n",
       "    </tr>\n",
       "  </thead>\n",
       "  <tbody>\n",
       "    <tr>\n",
       "      <th>0</th>\n",
       "      <td>21</td>\n",
       "      <td>1970-01-02 09:59:45</td>\n",
       "      <td>sec_490124</td>\n",
       "      <td>2452</td>\n",
       "      <td>1</td>\n",
       "      <td>False</td>\n",
       "    </tr>\n",
       "    <tr>\n",
       "      <th>1</th>\n",
       "      <td>21</td>\n",
       "      <td>1970-01-02 10:47:12</td>\n",
       "      <td>sec_425380</td>\n",
       "      <td>1405</td>\n",
       "      <td>1</td>\n",
       "      <td>False</td>\n",
       "    </tr>\n",
       "    <tr>\n",
       "      <th>2</th>\n",
       "      <td>21</td>\n",
       "      <td>1970-01-02 11:20:14</td>\n",
       "      <td>home_5</td>\n",
       "      <td>12023</td>\n",
       "      <td>1</td>\n",
       "      <td>False</td>\n",
       "    </tr>\n",
       "    <tr>\n",
       "      <th>3</th>\n",
       "      <td>21</td>\n",
       "      <td>1970-01-02 14:43:00</td>\n",
       "      <td>PT!100110007:7!120200199-1_202458!120062097-1_...</td>\n",
       "      <td>480</td>\n",
       "      <td>2</td>\n",
       "      <td>True</td>\n",
       "    </tr>\n",
       "    <tr>\n",
       "      <th>4</th>\n",
       "      <td>21</td>\n",
       "      <td>1970-01-02 14:56:00</td>\n",
       "      <td>PT!100100180:180!120178341-1_235191!120178340-...</td>\n",
       "      <td>899</td>\n",
       "      <td>1</td>\n",
       "      <td>False</td>\n",
       "    </tr>\n",
       "    <tr>\n",
       "      <th>5</th>\n",
       "      <td>21</td>\n",
       "      <td>1970-01-02 15:13:28</td>\n",
       "      <td>sec_349262</td>\n",
       "      <td>3429</td>\n",
       "      <td>1</td>\n",
       "      <td>False</td>\n",
       "    </tr>\n",
       "    <tr>\n",
       "      <th>6</th>\n",
       "      <td>21</td>\n",
       "      <td>1970-01-02 16:17:00</td>\n",
       "      <td>PT!100100132:132!118429989-1_266853!118429989-...</td>\n",
       "      <td>780</td>\n",
       "      <td>1</td>\n",
       "      <td>False</td>\n",
       "    </tr>\n",
       "    <tr>\n",
       "      <th>7</th>\n",
       "      <td>21</td>\n",
       "      <td>1970-01-02 16:35:00</td>\n",
       "      <td>PT!100110007:7!120062240-1_203260!120062240-1_...</td>\n",
       "      <td>419</td>\n",
       "      <td>2</td>\n",
       "      <td>True</td>\n",
       "    </tr>\n",
       "    <tr>\n",
       "      <th>8</th>\n",
       "      <td>288</td>\n",
       "      <td>1970-01-02 08:15:38</td>\n",
       "      <td>sec_327683</td>\n",
       "      <td>7959</td>\n",
       "      <td>2</td>\n",
       "      <td>True</td>\n",
       "    </tr>\n",
       "    <tr>\n",
       "      <th>9</th>\n",
       "      <td>288</td>\n",
       "      <td>1970-01-02 10:37:47</td>\n",
       "      <td>home_153</td>\n",
       "      <td>13287</td>\n",
       "      <td>1</td>\n",
       "      <td>False</td>\n",
       "    </tr>\n",
       "  </tbody>\n",
       "</table>\n",
       "</div>"
      ],
      "text/plain": [
       "    id            datetime                                            concept  \\\n",
       "0   21 1970-01-02 09:59:45                                         sec_490124   \n",
       "1   21 1970-01-02 10:47:12                                         sec_425380   \n",
       "2   21 1970-01-02 11:20:14                                             home_5   \n",
       "3   21 1970-01-02 14:43:00  PT!100110007:7!120200199-1_202458!120062097-1_...   \n",
       "4   21 1970-01-02 14:56:00  PT!100100180:180!120178341-1_235191!120178340-...   \n",
       "5   21 1970-01-02 15:13:28                                         sec_349262   \n",
       "6   21 1970-01-02 16:17:00  PT!100100132:132!118429989-1_266853!118429989-...   \n",
       "7   21 1970-01-02 16:35:00  PT!100110007:7!120062240-1_203260!120062240-1_...   \n",
       "8  288 1970-01-02 08:15:38                                         sec_327683   \n",
       "9  288 1970-01-02 10:37:47                                           home_153   \n",
       "\n",
       "   duration  groupSize  contact  \n",
       "0      2452          1    False  \n",
       "1      1405          1    False  \n",
       "2     12023          1    False  \n",
       "3       480          2     True  \n",
       "4       899          1    False  \n",
       "5      3429          1    False  \n",
       "6       780          1    False  \n",
       "7       419          2     True  \n",
       "8      7959          2     True  \n",
       "9     13287          1    False  "
      ]
     },
     "execution_count": 59,
     "metadata": {},
     "output_type": "execute_result"
    }
   ],
   "source": [
    "sample"
   ]
  },
  {
   "cell_type": "code",
   "execution_count": 66,
   "metadata": {},
   "outputs": [],
   "source": [
    "df[\"datetime\"] = df[\"datetime\"].astype(str)"
   ]
  },
  {
   "cell_type": "code",
   "execution_count": 68,
   "metadata": {},
   "outputs": [],
   "source": [
    "df.to_csv(\"./actions_1_v2.csv\", index=False)"
   ]
  },
  {
   "cell_type": "code",
   "execution_count": 71,
   "metadata": {},
   "outputs": [],
   "source": [
    "last_id = sample.loc[len(sample) - 1][0]"
   ]
  },
  {
   "cell_type": "code",
   "execution_count": 73,
   "metadata": {},
   "outputs": [],
   "source": [
    "next_data = sample[sample.id == last_id]"
   ]
  },
  {
   "cell_type": "code",
   "execution_count": 74,
   "metadata": {},
   "outputs": [
    {
     "data": {
      "text/html": [
       "<div>\n",
       "<style scoped>\n",
       "    .dataframe tbody tr th:only-of-type {\n",
       "        vertical-align: middle;\n",
       "    }\n",
       "\n",
       "    .dataframe tbody tr th {\n",
       "        vertical-align: top;\n",
       "    }\n",
       "\n",
       "    .dataframe thead th {\n",
       "        text-align: right;\n",
       "    }\n",
       "</style>\n",
       "<table border=\"1\" class=\"dataframe\">\n",
       "  <thead>\n",
       "    <tr style=\"text-align: right;\">\n",
       "      <th></th>\n",
       "      <th>id</th>\n",
       "      <th>datetime</th>\n",
       "      <th>concept</th>\n",
       "      <th>duration</th>\n",
       "      <th>groupSize</th>\n",
       "      <th>contact</th>\n",
       "    </tr>\n",
       "  </thead>\n",
       "  <tbody>\n",
       "    <tr>\n",
       "      <th>8</th>\n",
       "      <td>288</td>\n",
       "      <td>1970-01-02 08:15:38</td>\n",
       "      <td>sec_327683</td>\n",
       "      <td>7959</td>\n",
       "      <td>2</td>\n",
       "      <td>True</td>\n",
       "    </tr>\n",
       "    <tr>\n",
       "      <th>9</th>\n",
       "      <td>288</td>\n",
       "      <td>1970-01-02 10:37:47</td>\n",
       "      <td>home_153</td>\n",
       "      <td>13287</td>\n",
       "      <td>1</td>\n",
       "      <td>False</td>\n",
       "    </tr>\n",
       "  </tbody>\n",
       "</table>\n",
       "</div>"
      ],
      "text/plain": [
       "    id            datetime     concept  duration  groupSize  contact\n",
       "8  288 1970-01-02 08:15:38  sec_327683      7959          2     True\n",
       "9  288 1970-01-02 10:37:47    home_153     13287          1    False"
      ]
     },
     "execution_count": 74,
     "metadata": {},
     "output_type": "execute_result"
    }
   ],
   "source": [
    "next_data"
   ]
  },
  {
   "cell_type": "code",
   "execution_count": 82,
   "metadata": {},
   "outputs": [
    {
     "data": {
      "text/plain": [
       "2847.0"
      ]
     },
     "execution_count": 82,
     "metadata": {},
     "output_type": "execute_result"
    }
   ],
   "source": [
    "from datetime import datetime\n",
    "abs((datetime.strptime(str(sample[\"datetime\"][0]), \"%Y-%m-%d %H:%M:%S\") - datetime.strptime(str(sample[\"datetime\"][1]), \"%Y-%m-%d %H:%M:%S\")).total_seconds())"
   ]
  },
  {
   "cell_type": "code",
   "execution_count": 80,
   "metadata": {},
   "outputs": [
    {
     "data": {
      "text/plain": [
       "(Timestamp('1970-01-02 09:59:45'), Timestamp('1970-01-02 10:47:12'))"
      ]
     },
     "execution_count": 80,
     "metadata": {},
     "output_type": "execute_result"
    }
   ],
   "source": [
    "sample[\"datetime\"][0], sample[\"datetime\"][1]"
   ]
  },
  {
   "cell_type": "code",
   "execution_count": null,
   "metadata": {},
   "outputs": [],
   "source": []
  }
 ],
 "metadata": {
  "kernelspec": {
   "display_name": "Python 3",
   "language": "python",
   "name": "python3"
  },
  "language_info": {
   "codemirror_mode": {
    "name": "ipython",
    "version": 3
   },
   "file_extension": ".py",
   "mimetype": "text/x-python",
   "name": "python",
   "nbconvert_exporter": "python",
   "pygments_lexer": "ipython3",
   "version": "3.8.6"
  }
 },
 "nbformat": 4,
 "nbformat_minor": 4
}
