{
 "cells": [
  {
   "cell_type": "code",
   "execution_count": 68,
   "metadata": {},
   "outputs": [],
   "source": [
    "from sklearn.cluster import AgglomerativeClustering, DBSCAN\n",
    "from sklearn.preprocessing import StandardScaler\n",
    "from pathlib import Path\n",
    "from tqdm import tqdm\n",
    "import pandas as pd\n",
    "#import matplotlib.pyplot as plt\n",
    "import numpy as np\n",
    "import ast\n",
    "import os\n",
    "import sys"
   ]
  },
  {
   "cell_type": "code",
   "execution_count": null,
   "metadata": {},
   "outputs": [],
   "source": []
  },
  {
   "cell_type": "code",
   "execution_count": 69,
   "metadata": {},
   "outputs": [],
   "source": [
    "tqdm.pandas()"
   ]
  },
  {
   "cell_type": "code",
   "execution_count": 70,
   "metadata": {},
   "outputs": [],
   "source": [
    "actions_df_path = Path(\"./actions_day_1.csv\")"
   ]
  },
  {
   "cell_type": "code",
   "execution_count": 71,
   "metadata": {},
   "outputs": [],
   "source": [
    "actions_df = pd.read_csv(actions_df_path)"
   ]
  },
  {
   "cell_type": "code",
   "execution_count": 72,
   "metadata": {},
   "outputs": [
    {
     "name": "stderr",
     "output_type": "stream",
     "text": [
      "100%|██████████| 558860/558860 [00:05<00:00, 109460.92it/s]\n"
     ]
    }
   ],
   "source": [
    "def get_group_size(row):\n",
    "    return max(ast.literal_eval(row))\n",
    "\n",
    "gs = actions_df[\"groupSize\"].progress_apply(get_group_size)"
   ]
  },
  {
   "cell_type": "code",
   "execution_count": 73,
   "metadata": {},
   "outputs": [],
   "source": [
    "mask = (np.array(gs) == 1)"
   ]
  },
  {
   "cell_type": "code",
   "execution_count": 20,
   "metadata": {},
   "outputs": [],
   "source": [
    "min_gs = min(gs); max_gs = max(gs)\n",
    "\n",
    "def normalize_gs(group_size):\n",
    "    return (group_size - min_gs) / (max_gs - min_gs)\n",
    "\n",
    "gs_normalized = list(map(normalize_gs, gs))"
   ]
  },
  {
   "cell_type": "code",
   "execution_count": null,
   "metadata": {},
   "outputs": [],
   "source": []
  },
  {
   "cell_type": "code",
   "execution_count": 74,
   "metadata": {},
   "outputs": [],
   "source": [
    "duration = list(actions_df[\"end_time\"] - actions_df[\"time\"])"
   ]
  },
  {
   "cell_type": "code",
   "execution_count": 81,
   "metadata": {},
   "outputs": [],
   "source": [
    "min_duration = min(duration); max_duration = max(duration)\n",
    "\n",
    "def normalize_duration(d):\n",
    "    return ((d - min_duration) / (max_duration - min_duration)) * (max_gs - min_gs) + min_gs\n",
    "duration_normalized = list(map(normalize_duration, duration))"
   ]
  },
  {
   "cell_type": "code",
   "execution_count": 83,
   "metadata": {},
   "outputs": [
    {
     "data": {
      "text/plain": [
       "85.0"
      ]
     },
     "execution_count": 83,
     "metadata": {},
     "output_type": "execute_result"
    }
   ],
   "source": [
    "max(duration_normalized)"
   ]
  },
  {
   "cell_type": "code",
   "execution_count": 19,
   "metadata": {},
   "outputs": [],
   "source": [
    "#plt.plot(list(range(len(duration))), duration_normalized, '*')\n",
    "#plt.show()"
   ]
  },
  {
   "cell_type": "code",
   "execution_count": 21,
   "metadata": {},
   "outputs": [],
   "source": [
    "#plt.plot(list(range(len(gs))), gs_normalized, '*')\n",
    "#plt.show()"
   ]
  },
  {
   "cell_type": "code",
   "execution_count": 75,
   "metadata": {},
   "outputs": [
    {
     "data": {
      "text/html": [
       "<div>\n",
       "<style scoped>\n",
       "    .dataframe tbody tr th:only-of-type {\n",
       "        vertical-align: middle;\n",
       "    }\n",
       "\n",
       "    .dataframe tbody tr th {\n",
       "        vertical-align: top;\n",
       "    }\n",
       "\n",
       "    .dataframe thead th {\n",
       "        text-align: right;\n",
       "    }\n",
       "</style>\n",
       "<table border=\"1\" class=\"dataframe\">\n",
       "  <thead>\n",
       "    <tr style=\"text-align: right;\">\n",
       "      <th></th>\n",
       "      <th>Unnamed: 0</th>\n",
       "      <th>person</th>\n",
       "      <th>time</th>\n",
       "      <th>container</th>\n",
       "      <th>end_time</th>\n",
       "      <th>groupSize</th>\n",
       "      <th>contactPeople</th>\n",
       "      <th>almostContactPeople</th>\n",
       "    </tr>\n",
       "  </thead>\n",
       "  <tbody>\n",
       "    <tr>\n",
       "      <th>0</th>\n",
       "      <td>0</td>\n",
       "      <td>21</td>\n",
       "      <td>122385.0</td>\n",
       "      <td>sec_490124</td>\n",
       "      <td>124837.0</td>\n",
       "      <td>[1]</td>\n",
       "      <td>[]</td>\n",
       "      <td>NaN</td>\n",
       "    </tr>\n",
       "    <tr>\n",
       "      <th>1</th>\n",
       "      <td>1</td>\n",
       "      <td>21</td>\n",
       "      <td>125232.0</td>\n",
       "      <td>sec_425380</td>\n",
       "      <td>126637.0</td>\n",
       "      <td>[1]</td>\n",
       "      <td>[]</td>\n",
       "      <td>NaN</td>\n",
       "    </tr>\n",
       "    <tr>\n",
       "      <th>2</th>\n",
       "      <td>2</td>\n",
       "      <td>21</td>\n",
       "      <td>127214.0</td>\n",
       "      <td>home_5</td>\n",
       "      <td>139237.0</td>\n",
       "      <td>[1]</td>\n",
       "      <td>[]</td>\n",
       "      <td>NaN</td>\n",
       "    </tr>\n",
       "    <tr>\n",
       "      <th>3</th>\n",
       "      <td>3</td>\n",
       "      <td>21</td>\n",
       "      <td>139380.0</td>\n",
       "      <td>PT!100110007:7!120200199-1_202458!120062097-1_...</td>\n",
       "      <td>139860.0</td>\n",
       "      <td>[2]</td>\n",
       "      <td>[9437416]</td>\n",
       "      <td>NaN</td>\n",
       "    </tr>\n",
       "    <tr>\n",
       "      <th>4</th>\n",
       "      <td>4</td>\n",
       "      <td>21</td>\n",
       "      <td>140160.0</td>\n",
       "      <td>PT!100100180:180!120178341-1_235191!120178340-...</td>\n",
       "      <td>141059.0</td>\n",
       "      <td>[1]</td>\n",
       "      <td>[]</td>\n",
       "      <td>NaN</td>\n",
       "    </tr>\n",
       "  </tbody>\n",
       "</table>\n",
       "</div>"
      ],
      "text/plain": [
       "   Unnamed: 0  person      time  \\\n",
       "0           0      21  122385.0   \n",
       "1           1      21  125232.0   \n",
       "2           2      21  127214.0   \n",
       "3           3      21  139380.0   \n",
       "4           4      21  140160.0   \n",
       "\n",
       "                                           container  end_time groupSize  \\\n",
       "0                                         sec_490124  124837.0       [1]   \n",
       "1                                         sec_425380  126637.0       [1]   \n",
       "2                                             home_5  139237.0       [1]   \n",
       "3  PT!100110007:7!120200199-1_202458!120062097-1_...  139860.0       [2]   \n",
       "4  PT!100100180:180!120178341-1_235191!120178340-...  141059.0       [1]   \n",
       "\n",
       "  contactPeople almostContactPeople  \n",
       "0            []                 NaN  \n",
       "1            []                 NaN  \n",
       "2            []                 NaN  \n",
       "3     [9437416]                 NaN  \n",
       "4            []                 NaN  "
      ]
     },
     "execution_count": 75,
     "metadata": {},
     "output_type": "execute_result"
    }
   ],
   "source": [
    "actions_df.head(5)"
   ]
  },
  {
   "cell_type": "code",
   "execution_count": 85,
   "metadata": {},
   "outputs": [
    {
     "name": "stderr",
     "output_type": "stream",
     "text": [
      "558860it [00:47, 11808.20it/s]\n"
     ]
    }
   ],
   "source": [
    "from collections import defaultdict\n",
    "action_risk = defaultdict(int)\n",
    "\n",
    "for row_num, row in tqdm(actions_df.iterrows()):\n",
    "    action_risk[row[\"container\"]] += duration_normalized[row_num]\n",
    "    action_risk[row[\"container\"]] += gs[row_num]\n",
    "    "
   ]
  },
  {
   "cell_type": "code",
   "execution_count": 86,
   "metadata": {},
   "outputs": [
    {
     "data": {
      "text/plain": [
       "10173.393365380034"
      ]
     },
     "execution_count": 86,
     "metadata": {},
     "output_type": "execute_result"
    }
   ],
   "source": [
    "max(list(action_risk.values()))"
   ]
  },
  {
   "cell_type": "code",
   "execution_count": 87,
   "metadata": {},
   "outputs": [
    {
     "name": "stderr",
     "output_type": "stream",
     "text": [
      "558860it [00:40, 13790.90it/s]\n"
     ]
    }
   ],
   "source": [
    "from collections import defaultdict\n",
    "action_risk_average = defaultdict(int)\n",
    "\n",
    "for row_num, row in tqdm(actions_df.iterrows()):\n",
    "    action_risk_average[row[\"container\"]] += (duration_normalized[row_num] + gs_normalized[row_num]) / 2\n",
    "    "
   ]
  },
  {
   "cell_type": "markdown",
   "metadata": {},
   "source": [
    "# Create timelines"
   ]
  },
  {
   "cell_type": "code",
   "execution_count": null,
   "metadata": {},
   "outputs": [],
   "source": []
  },
  {
   "cell_type": "code",
   "execution_count": 104,
   "metadata": {},
   "outputs": [
    {
     "name": "stderr",
     "output_type": "stream",
     "text": [
      "100%|██████████| 108246/108246 [01:26<00:00, 1251.44it/s]\n"
     ]
    }
   ],
   "source": [
    "timelines = {}\n",
    "\n",
    "for group_id, group in tqdm(actions_df.groupby(\"person\")):\n",
    "    temp_line = []\n",
    "    \n",
    "    for row_id, row in group.iterrows():\n",
    "        row_duration = normalize_duration(row[\"end_time\"] - row[\"time\"])\n",
    "        row_group_size = normalize_gs(get_group_size(row[\"groupSize\"]))\n",
    "        temp_line.append({\n",
    "            \"container\": row[\"container\"],\n",
    "            \"duration\": row_duration,\n",
    "            \"groupSize\": get_group_size(row[\"groupSize\"])\n",
    "        })\n",
    "    \n",
    "    if timelines.get(group_id, None):\n",
    "        print(f\"There is an existing {group_id}\")\n",
    "    \n",
    "    timelines[group_id] = temp_line\n",
    "    \n",
    "    "
   ]
  },
  {
   "cell_type": "code",
   "execution_count": 105,
   "metadata": {},
   "outputs": [
    {
     "data": {
      "text/plain": [
       "[{'container': 'sec_490124', 'duration': 4.267621721955166, 'groupSize': 1},\n",
       " {'container': 'sec_425380', 'duration': 2.8723525772214553, 'groupSize': 1},\n",
       " {'container': 'home_5', 'duration': 17.022274046927798, 'groupSize': 1},\n",
       " {'container': 'PT!100110007:7!120200199-1_202458!120062097-1_202075_14:03:00',\n",
       "  'duration': 1.6396649374137358,\n",
       "  'groupSize': 2},\n",
       " {'container': 'PT!100100180:180!120178341-1_235191!120178340-1_235190_14:56:00',\n",
       "  'duration': 2.1980391223644755,\n",
       "  'groupSize': 1},\n",
       " {'container': 'sec_349262', 'duration': 5.569606396649374, 'groupSize': 1},\n",
       " {'container': 'PT!100100132:132!118429989-1_266853!118429989-1_266853_15:57:00',\n",
       "  'duration': 2.0394555232973204,\n",
       "  'groupSize': 1},\n",
       " {'container': 'PT!100110007:7!120062240-1_203260!120062240-1_203260_16:35:00',\n",
       "  'duration': 1.5583741849507402,\n",
       "  'groupSize': 2}]"
      ]
     },
     "execution_count": 105,
     "metadata": {},
     "output_type": "execute_result"
    }
   ],
   "source": [
    "timelines[21]"
   ]
  },
  {
   "cell_type": "code",
   "execution_count": 106,
   "metadata": {},
   "outputs": [],
   "source": [
    "probs = np.array([1, 2, 3, 5, 7, 8, 8])"
   ]
  },
  {
   "cell_type": "code",
   "execution_count": 107,
   "metadata": {},
   "outputs": [
    {
     "data": {
      "text/plain": [
       "array([0.00114274, 0.00752026, 0.02264115, 0.09077074, 0.22654947,\n",
       "       0.32568782, 0.32568782])"
      ]
     },
     "execution_count": 107,
     "metadata": {},
     "output_type": "execute_result"
    }
   ],
   "source": [
    "probs = np.power(probs, np.e) / np.sum(np.power(probs, np.e))\n",
    "probs"
   ]
  },
  {
   "cell_type": "code",
   "execution_count": 108,
   "metadata": {},
   "outputs": [
    {
     "data": {
      "text/plain": [
       "[{'container': 'sec_490124', 'duration': 4.267621721955166, 'groupSize': 1},\n",
       " {'container': 'sec_425380', 'duration': 2.8723525772214553, 'groupSize': 1},\n",
       " {'container': 'home_5', 'duration': 17.022274046927798, 'groupSize': 1},\n",
       " {'container': 'PT!100110007:7!120200199-1_202458!120062097-1_202075_14:03:00',\n",
       "  'duration': 1.6396649374137358,\n",
       "  'groupSize': 2},\n",
       " {'container': 'PT!100100180:180!120178341-1_235191!120178340-1_235190_14:56:00',\n",
       "  'duration': 2.1980391223644755,\n",
       "  'groupSize': 1},\n",
       " {'container': 'sec_349262', 'duration': 5.569606396649374, 'groupSize': 1},\n",
       " {'container': 'PT!100100132:132!118429989-1_266853!118429989-1_266853_15:57:00',\n",
       "  'duration': 2.0394555232973204,\n",
       "  'groupSize': 1},\n",
       " {'container': 'PT!100110007:7!120062240-1_203260!120062240-1_203260_16:35:00',\n",
       "  'duration': 1.5583741849507402,\n",
       "  'groupSize': 2}]"
      ]
     },
     "execution_count": 108,
     "metadata": {},
     "output_type": "execute_result"
    }
   ],
   "source": [
    "timelines[21]"
   ]
  },
  {
   "cell_type": "code",
   "execution_count": 109,
   "metadata": {},
   "outputs": [
    {
     "name": "stderr",
     "output_type": "stream",
     "text": [
      "100%|██████████| 108246/108246 [00:01<00:00, 62156.28it/s]\n"
     ]
    }
   ],
   "source": [
    "action_risks_prob = defaultdict(int)\n",
    "\n",
    "for person_id, actions_list in tqdm(timelines.items()):\n",
    "    probs = []\n",
    "    actions = []\n",
    "    \n",
    "    for action in actions_list:\n",
    "        probs.append(action[\"duration\"] + action[\"groupSize\"])\n",
    "        actions.append(action[\"container\"])\n",
    "    \n",
    "    probs = np.array(probs)\n",
    "    \n",
    "    probs = np.power(probs, np.e) / np.sum(np.power(probs, np.e))\n",
    "    \n",
    "    for i, action in enumerate(actions):\n",
    "        action_risks_prob[action] += probs[i]"
   ]
  },
  {
   "cell_type": "code",
   "execution_count": 110,
   "metadata": {},
   "outputs": [
    {
     "data": {
      "text/plain": [
       "0.4728262982084884"
      ]
     },
     "execution_count": 110,
     "metadata": {},
     "output_type": "execute_result"
    }
   ],
   "source": [
    "action_risks_prob[\"sec_425380\"]"
   ]
  },
  {
   "cell_type": "code",
   "execution_count": 111,
   "metadata": {},
   "outputs": [],
   "source": [
    "infections_file_path = Path(\"./infectionEvents.txt\")"
   ]
  },
  {
   "cell_type": "code",
   "execution_count": 112,
   "metadata": {},
   "outputs": [],
   "source": [
    "infections = pd.read_csv(infections_file_path, sep=\"\\t\")"
   ]
  },
  {
   "cell_type": "code",
   "execution_count": 113,
   "metadata": {},
   "outputs": [
    {
     "data": {
      "text/html": [
       "<div>\n",
       "<style scoped>\n",
       "    .dataframe tbody tr th:only-of-type {\n",
       "        vertical-align: middle;\n",
       "    }\n",
       "\n",
       "    .dataframe tbody tr th {\n",
       "        vertical-align: top;\n",
       "    }\n",
       "\n",
       "    .dataframe thead th {\n",
       "        text-align: right;\n",
       "    }\n",
       "</style>\n",
       "<table border=\"1\" class=\"dataframe\">\n",
       "  <thead>\n",
       "    <tr style=\"text-align: right;\">\n",
       "      <th></th>\n",
       "      <th>time</th>\n",
       "      <th>infector</th>\n",
       "      <th>infected</th>\n",
       "      <th>infectionType</th>\n",
       "      <th>date</th>\n",
       "      <th>groupSize</th>\n",
       "      <th>facility</th>\n",
       "    </tr>\n",
       "  </thead>\n",
       "  <tbody>\n",
       "    <tr>\n",
       "      <th>0</th>\n",
       "      <td>284037.0</td>\n",
       "      <td>7861927</td>\n",
       "      <td>7874412</td>\n",
       "      <td>home_home</td>\n",
       "      <td>2020-01-26</td>\n",
       "      <td>8</td>\n",
       "      <td>home_3512319</td>\n",
       "    </tr>\n",
       "  </tbody>\n",
       "</table>\n",
       "</div>"
      ],
      "text/plain": [
       "       time  infector  infected infectionType        date  groupSize  \\\n",
       "0  284037.0   7861927   7874412     home_home  2020-01-26          8   \n",
       "\n",
       "       facility  \n",
       "0  home_3512319  "
      ]
     },
     "execution_count": 113,
     "metadata": {},
     "output_type": "execute_result"
    }
   ],
   "source": [
    "infections.head(1)"
   ]
  },
  {
   "cell_type": "code",
   "execution_count": 114,
   "metadata": {},
   "outputs": [
    {
     "name": "stderr",
     "output_type": "stream",
     "text": [
      "28248it [00:02, 13725.72it/s]\n"
     ]
    }
   ],
   "source": [
    "infection_risks = []\n",
    "\n",
    "for row_id, row in tqdm(infections.iterrows()):\n",
    "    infection_risks.append(action_risk[row[\"facility\"]])"
   ]
  },
  {
   "cell_type": "code",
   "execution_count": 115,
   "metadata": {},
   "outputs": [
    {
     "data": {
      "text/plain": [
       "(83,\n",
       " time                 539424.0\n",
       " infector              5744755\n",
       " infected              5744756\n",
       " infectionType       home_home\n",
       " date               2020-01-29\n",
       " groupSize                   2\n",
       " facility         home_2594069\n",
       " Name: 60, dtype: object)"
      ]
     },
     "execution_count": 115,
     "metadata": {},
     "output_type": "execute_result"
    }
   ],
   "source": [
    "np.argmin(infection_risks), infections.iloc[60]"
   ]
  },
  {
   "cell_type": "code",
   "execution_count": 116,
   "metadata": {},
   "outputs": [],
   "source": [
    "from collections import Counter"
   ]
  },
  {
   "cell_type": "code",
   "execution_count": 117,
   "metadata": {},
   "outputs": [],
   "source": [
    "cnt = Counter(infection_risks)"
   ]
  },
  {
   "cell_type": "code",
   "execution_count": 118,
   "metadata": {},
   "outputs": [
    {
     "data": {
      "text/plain": [
       "(3.709247537004426, 0.0)"
      ]
     },
     "execution_count": 118,
     "metadata": {},
     "output_type": "execute_result"
    }
   ],
   "source": [
    "duration_normalized[60], gs_normalized[60]"
   ]
  },
  {
   "cell_type": "code",
   "execution_count": 119,
   "metadata": {},
   "outputs": [
    {
     "name": "stderr",
     "output_type": "stream",
     "text": [
      "28248it [00:02, 12239.08it/s]\n"
     ]
    }
   ],
   "source": [
    "infection_all = defaultdict(lambda : defaultdict(int))\n",
    "infection_locations = defaultdict(int)\n",
    "\n",
    "for row_id, row in tqdm(infections.iterrows()):\n",
    "    infection_all[row[\"infected\"]][row[\"facility\"]] = 1\n",
    "    infection_locations[row[\"facility\"]] = 1"
   ]
  },
  {
   "cell_type": "code",
   "execution_count": null,
   "metadata": {},
   "outputs": [],
   "source": []
  },
  {
   "cell_type": "code",
   "execution_count": 120,
   "metadata": {},
   "outputs": [
    {
     "name": "stderr",
     "output_type": "stream",
     "text": [
      "558860it [00:43, 12927.86it/s]\n"
     ]
    }
   ],
   "source": [
    "assert len(duration_normalized) == len(gs_normalized)\n",
    "\n",
    "X = list(zip(duration_normalized, gs_normalized))\n",
    "Y = []\n",
    "\n",
    "for row_id, row in tqdm(actions_df.iterrows()):\n",
    "    if infection_all[row[\"person\"]][row[\"container\"]] == 1:\n",
    "        Y.append(1)\n",
    "    else:\n",
    "        Y.append(0)\n",
    "X = np.array(X)\n",
    "Y = np.array(Y)"
   ]
  },
  {
   "cell_type": "code",
   "execution_count": null,
   "metadata": {},
   "outputs": [],
   "source": []
  },
  {
   "cell_type": "code",
   "execution_count": 52,
   "metadata": {},
   "outputs": [],
   "source": [
    "from sklearn.model_selection import train_test_split\n",
    "\n",
    "X_train, X_test, Y_train, Y_test = train_test_split(X, Y, test_size=0.2)"
   ]
  },
  {
   "cell_type": "code",
   "execution_count": 53,
   "metadata": {},
   "outputs": [],
   "source": [
    "from sklearn.gaussian_process import GaussianProcessRegressor\n",
    "from sklearn.ensemble import RandomForestRegressor\n",
    "\n",
    "#gpr = GaussianProcessRegressor()\n",
    "rfr = RandomForestRegressor(n_estimators=200)"
   ]
  },
  {
   "cell_type": "code",
   "execution_count": 54,
   "metadata": {},
   "outputs": [
    {
     "data": {
      "text/plain": [
       "RandomForestRegressor(n_estimators=200)"
      ]
     },
     "execution_count": 54,
     "metadata": {},
     "output_type": "execute_result"
    }
   ],
   "source": [
    "rfr.fit(X_train, Y_train)"
   ]
  },
  {
   "cell_type": "code",
   "execution_count": 55,
   "metadata": {},
   "outputs": [],
   "source": [
    "from sklearn.metrics import f1_score"
   ]
  },
  {
   "cell_type": "code",
   "execution_count": 56,
   "metadata": {},
   "outputs": [],
   "source": [
    "Y_predict = rfr.predict(X_test)"
   ]
  },
  {
   "cell_type": "code",
   "execution_count": 57,
   "metadata": {},
   "outputs": [],
   "source": [
    "Y_pred = np.array(Y_predict)\n",
    "\n",
    "Y_pred = Y_pred > 0.5"
   ]
  },
  {
   "cell_type": "code",
   "execution_count": 58,
   "metadata": {},
   "outputs": [],
   "source": [
    "Y_pred = np.array(Y_pred, dtype=int)"
   ]
  },
  {
   "cell_type": "code",
   "execution_count": 59,
   "metadata": {},
   "outputs": [
    {
     "data": {
      "text/plain": [
       "0.09455150422847637"
      ]
     },
     "execution_count": 59,
     "metadata": {},
     "output_type": "execute_result"
    }
   ],
   "source": [
    "f1_score(Y_test, Y_pred)"
   ]
  },
  {
   "cell_type": "code",
   "execution_count": 60,
   "metadata": {},
   "outputs": [
    {
     "data": {
      "text/plain": [
       "defaultdict(int,\n",
       "            {'sec_490124': 0,\n",
       "             'sec_425380': 0,\n",
       "             'home_5': 0,\n",
       "             'PT!100110007:7!120200199-1_202458!120062097-1_202075_14:03:00': 0,\n",
       "             'PT!100100180:180!120178341-1_235191!120178340-1_235190_14:56:00': 0,\n",
       "             'sec_349262': 0,\n",
       "             'PT!100100132:132!118429989-1_266853!118429989-1_266853_15:57:00': 0,\n",
       "             'PT!100110007:7!120062240-1_203260!120062240-1_203260_16:35:00': 0})"
      ]
     },
     "execution_count": 60,
     "metadata": {},
     "output_type": "execute_result"
    }
   ],
   "source": [
    "infection_all[21]"
   ]
  },
  {
   "cell_type": "code",
   "execution_count": 122,
   "metadata": {},
   "outputs": [
    {
     "name": "stderr",
     "output_type": "stream",
     "text": [
      "100%|██████████| 108246/108246 [00:00<00:00, 212067.62it/s]\n"
     ]
    }
   ],
   "source": [
    "result_prediction = []\n",
    "\n",
    "for person_id, actions in tqdm(timelines.items()):\n",
    "    risk = -1\n",
    "    riskiest_index = -1\n",
    "    \n",
    "    for i, action in enumerate(actions):\n",
    "        if action_risks_prob[action[\"container\"]] > risk:\n",
    "            riskiest_index = i\n",
    "        \n",
    "    if infection_all[person_id][actions[riskiest_index][\"container\"]] == 1:\n",
    "        result_prediction.append(1)\n",
    "    else:\n",
    "        result_prediction.append(0)"
   ]
  },
  {
   "cell_type": "code",
   "execution_count": null,
   "metadata": {},
   "outputs": [],
   "source": []
  },
  {
   "cell_type": "code",
   "execution_count": 123,
   "metadata": {},
   "outputs": [
    {
     "data": {
      "text/plain": [
       "0.1110875106202209"
      ]
     },
     "execution_count": 123,
     "metadata": {},
     "output_type": "execute_result"
    }
   ],
   "source": [
    "sum(result_prediction) / len(infections)"
   ]
  },
  {
   "cell_type": "code",
   "execution_count": 65,
   "metadata": {},
   "outputs": [
    {
     "name": "stderr",
     "output_type": "stream",
     "text": [
      "100%|██████████| 108246/108246 [00:00<00:00, 208333.41it/s]\n"
     ]
    }
   ],
   "source": [
    "result_prediction_average = []\n",
    "\n",
    "for person_id, actions in tqdm(timelines.items()):\n",
    "    risk = -1\n",
    "    riskiest_index = -1\n",
    "    \n",
    "    for i, action in enumerate(actions):\n",
    "        if action_risks_prob[action[\"container\"]] > risk:\n",
    "            riskiest_index = i\n",
    "        \n",
    "    if infection_all[person_id][actions[riskiest_index][\"container\"]] == 1:\n",
    "        result_prediction_average.append(1)\n",
    "    else:\n",
    "        result_prediction_average.append(0)"
   ]
  },
  {
   "cell_type": "code",
   "execution_count": 66,
   "metadata": {},
   "outputs": [
    {
     "data": {
      "text/plain": [
       "0.11115831209289154"
      ]
     },
     "execution_count": 66,
     "metadata": {},
     "output_type": "execute_result"
    }
   ],
   "source": [
    "sum(result_prediction_average) / len(infections)"
   ]
  },
  {
   "cell_type": "code",
   "execution_count": 67,
   "metadata": {},
   "outputs": [
    {
     "data": {
      "text/plain": [
       "3140"
      ]
     },
     "execution_count": 67,
     "metadata": {},
     "output_type": "execute_result"
    }
   ],
   "source": [
    "sum(result_prediction_average)"
   ]
  },
  {
   "cell_type": "code",
   "execution_count": null,
   "metadata": {},
   "outputs": [],
   "source": []
  },
  {
   "cell_type": "code",
   "execution_count": null,
   "metadata": {},
   "outputs": [],
   "source": []
  }
 ],
 "metadata": {
  "kernelspec": {
   "display_name": "Python 3",
   "language": "python",
   "name": "python3"
  },
  "language_info": {
   "codemirror_mode": {
    "name": "ipython",
    "version": 3
   },
   "file_extension": ".py",
   "mimetype": "text/x-python",
   "name": "python",
   "nbconvert_exporter": "python",
   "pygments_lexer": "ipython3",
   "version": "3.7.10"
  }
 },
 "nbformat": 4,
 "nbformat_minor": 4
}
